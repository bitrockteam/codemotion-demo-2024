{
 "cells": [
  {
   "cell_type": "markdown",
   "id": "738851362022a45e",
   "metadata": {},
   "source": [
    "# Setup Dependencies"
   ]
  },
  {
   "cell_type": "code",
   "id": "c419c238cfdba6a2",
   "metadata": {},
   "source": [
    "%%capture --no-stderr\n",
    "%pip install --upgrade --quiet psycopg2 langchain langchain-community langchain-openai faiss-cpu langgraph python-dotenv\n",
    "%pip install --extra-index-url https://europe-west3-python.pkg.dev/bionic-unity-294411/radicalbit-python-api/simple radicalbit-client==3.4.4"
   ],
   "outputs": [],
   "execution_count": null
  },
  {
   "cell_type": "code",
   "id": "6942221238973f68",
   "metadata": {},
   "source": [
    "def beautify_gpt_response(response):\n",
    "    return response[list(response.keys())[0]]['messages'][0].pretty_repr()"
   ],
   "outputs": [],
   "execution_count": null
  },
  {
   "cell_type": "markdown",
   "id": "f46a405e218d262c",
   "metadata": {},
   "source": [
    "# Setup Database"
   ]
  },
  {
   "cell_type": "code",
   "id": "3eb4b02c73d848e2",
   "metadata": {},
   "source": [
    "from langchain_community.utilities import SQLDatabase\n",
    "from dotenv import load_dotenv\n",
    "import os\n",
    "\n",
    "load_dotenv()\n",
    "\n",
    "db_host = os.environ.get(\"DATABASE_HOST\")\n",
    "db_port = os.environ.get(\"DATABASE_PORT\")\n",
    "db_name = os.environ.get(\"DATABASE_NAME\")\n",
    "db_user = os.environ.get(\"DATABASE_USER\")\n",
    "db_password = os.environ.get(\"DATABASE_PASSWORD\")\n",
    "\n",
    "db = SQLDatabase.from_uri(\n",
    "    f\"postgresql+psycopg2://{db_user}:{db_password}@{db_host}:{db_port}/{db_name}\",\n",
    ")\n",
    "print(f\"SQL dialect: {db.dialect}\")\n",
    "print(f\"List of usable tables: {db.get_usable_table_names()}\")"
   ],
   "outputs": [],
   "execution_count": null
  },
  {
   "cell_type": "markdown",
   "id": "52b3a8190708461d",
   "metadata": {},
   "source": [
    "# Create Agent"
   ]
  },
  {
   "cell_type": "code",
   "id": "a0a036f4fae32d0d",
   "metadata": {},
   "source": [
    "import os\n",
    "api_key = os.environ.get(\"OPENAI_API_KEY\")\n",
    "\n",
    "from langchain_openai import ChatOpenAI\n",
    "\n",
    "llm = ChatOpenAI(model=\"gpt-4o\", api_key=api_key)"
   ],
   "outputs": [],
   "execution_count": null
  },
  {
   "cell_type": "code",
   "id": "d3013fa32acea404",
   "metadata": {},
   "source": [
    "import json\n",
    "from langchain_community.agent_toolkits import SQLDatabaseToolkit\n",
    "\n",
    "toolkit = SQLDatabaseToolkit(db=db, llm=llm)\n",
    "\n",
    "tools = toolkit.get_tools()\n",
    "\n",
    "for t in tools:\n",
    "    print(json.dumps(t.to_json(), indent=4))"
   ],
   "outputs": [],
   "execution_count": null
  },
  {
   "cell_type": "code",
   "id": "88bff41a-fc0e-4cb4-810c-2d8414b263e0",
   "metadata": {},
   "source": [
    "from langchain_core.messages import SystemMessage\n",
    "\n",
    "SQL_PREFIX = \"\"\"You are an agent designed to interact with a SQL database.\n",
    "Given an input question, create a syntactically correct PostgreSQL query to run, then look at the results of the query and return the answer.\n",
    "Unless the user specifies that want to retrieve a specific number of examples they wish to obtain, always limit your query to at most 5 results.\n",
    "If the user ask for all the examples do not limit the query to 5 result.\n",
    "You can order the results by a relevant column to return the most interesting examples in the database.\n",
    "Never query for all the columns from a specific table, only ask for the relevant columns given the question.\n",
    "You have access to tools for interacting with the database.\n",
    "ALWAYS use double quote to identify table name.\n",
    "Only use the below tools. Only use the information returned by the below tools to construct your final answer.\n",
    "You MUST double check your query before executing it. If you get an error while executing a query, rewrite the query and try again.\n",
    "\n",
    "DO NOT make any DML statements (INSERT, UPDATE, DELETE, DROP etc.) to the database.\n",
    "\n",
    "To start you should ALWAYS look at the tables in the database to see what you can query.\n",
    "Do NOT skip this step.\n",
    "Then you should query the schema of the most relevant tables.\"\"\"\n",
    "\n",
    "system_message = SystemMessage(content=SQL_PREFIX)"
   ],
   "outputs": [],
   "execution_count": null
  },
  {
   "cell_type": "code",
   "id": "08ca1c68-6c64-4a5d-8a84-c8883293abf2",
   "metadata": {},
   "source": [
    "from langchain_core.messages import HumanMessage\n",
    "from langgraph.prebuilt import create_react_agent\n",
    "\n",
    "agent_executor = create_react_agent(llm, tools, state_modifier=system_message)"
   ],
   "outputs": [],
   "execution_count": null
  },
  {
   "cell_type": "markdown",
   "id": "c332bb91727e390b",
   "metadata": {},
   "source": [
    "# Test human language query"
   ]
  },
  {
   "cell_type": "code",
   "id": "8afc8c7e24ef14b9",
   "metadata": {},
   "source": [
    "for s in agent_executor.stream(\n",
    "    {\"messages\": [HumanMessage(content=\"list all truck models of Renault\")]}\n",
    "):\n",
    "    print(beautify_gpt_response(s))"
   ],
   "outputs": [],
   "execution_count": null
  },
  {
   "cell_type": "code",
   "id": "4e92f380-08bd-4940-b07c-893410eecdbf",
   "metadata": {},
   "source": [
    "for s in agent_executor.stream(\n",
    "    {\"messages\": [HumanMessage(content=\"list truck models of Renoul\")]}\n",
    "):\n",
    "    print(beautify_gpt_response(s))"
   ],
   "outputs": [],
   "execution_count": null
  },
  {
   "cell_type": "markdown",
   "id": "c68fa2e42e219005",
   "metadata": {},
   "source": [
    "# Embrace the typos with Similarity Search"
   ]
  },
  {
   "cell_type": "code",
   "id": "67dc844be0b67ecb",
   "metadata": {},
   "source": [
    "from langchain.evaluation import load_evaluator\n",
    "from langchain_openai import OpenAIEmbeddings\n",
    "\n",
    "evaluator = load_evaluator(evaluator=\"embedding_distance\",\n",
    "                           embeddings=OpenAIEmbeddings())\n",
    "\n",
    "print(f'Distance Amsterdam - coffeeshop: {evaluator.evaluate_strings(prediction=\"Amsterdam\", reference=\"coffeeshop\")['score']}')\n",
    "print(f'Distance Tokyo - coffeeshop: {evaluator.evaluate_strings(prediction=\"Tokyo\", reference=\"coffeeshop\")['score']}')"
   ],
   "outputs": [],
   "execution_count": null
  },
  {
   "cell_type": "code",
   "id": "e0e4283b-ea38-4eaf-a10e-8f457fde0714",
   "metadata": {},
   "source": [
    "import ast\n",
    "import re\n",
    "\n",
    "def query_as_list(db, query):\n",
    "    res = db.run(query)\n",
    "    res = [el for sub in ast.literal_eval(res) for el in sub if el]\n",
    "    res = [re.sub(r\"\\b\\d+\\b\", \"\", string).strip() for string in res]\n",
    "    return list(set(res))\n",
    "\n",
    "names = query_as_list(db, \"SELECT name FROM fleet_model\")\n",
    "manufacturers = query_as_list(db, \"SELECT manufacturer FROM fleet_model\")\n",
    "colors = query_as_list(db, \"SELECT color FROM vehicle\")\n",
    "zone = query_as_list(db, \"SELECT zone FROM vehicle_position\")\n",
    "city = query_as_list(db, \"SELECT city FROM vehicle_position\")\n",
    "manufacturers[:5]"
   ],
   "outputs": [],
   "execution_count": null
  },
  {
   "cell_type": "code",
   "id": "732d78e7-0db8-4c83-8862-68c39ccf6db5",
   "metadata": {
    "scrolled": true
   },
   "source": [
    "from langchain.agents.agent_toolkits import create_retriever_tool\n",
    "from langchain_community.vectorstores import FAISS\n",
    "from langchain_openai import OpenAIEmbeddings\n",
    "\n",
    "vector_db = FAISS.from_texts(names + manufacturers + colors + zone + city, OpenAIEmbeddings())\n",
    "retriever = vector_db.as_retriever(search_kwargs={\"k\": 5})\n",
    "description = \"\"\"Use to look up values to filter on. Input is an approximate spelling of the proper noun, output is \\\n",
    "valid proper nouns. Use the noun most similar to the search.\"\"\"\n",
    "retriever_tool = create_retriever_tool(\n",
    "    retriever,\n",
    "    name=\"search_proper_nouns\",\n",
    "    description=description,\n",
    ")\n",
    "\n",
    "for doc, score in vector_db.similarity_search_with_score(\"Renoul\"):\n",
    "    print(f\"* Distance from {doc.page_content} to Renoul = {score:3f}\")"
   ],
   "outputs": [],
   "execution_count": null
  },
  {
   "cell_type": "code",
   "id": "df365f70-3dc4-4c67-934a-3d003f493ff3",
   "metadata": {},
   "source": [
    "system = \"\"\"You are an agent designed to interact with a SQL database.\n",
    "Given an input question, create a syntactically correct PostgreSQL query to run, then look at the results of the query and return the answer.\n",
    "Unless the user specifies a specific number of examples they wish to obtain, always limit your query to at most 5 results.\n",
    "If the user ask for all the examples do not limit the query to 5 result.\n",
    "You can order the results by a relevant column to return the most interesting examples in the database.\n",
    "Never query for all the columns from a specific table, only ask for the relevant columns given the question.\n",
    "You have access to tools for interacting with the database.\n",
    "Only use the given tools. Only use the information returned by the tools to construct your final answer.\n",
    "You MUST double check your query before executing it. If you get an error while executing a query, rewrite the query and try again.\n",
    "\n",
    "DO NOT make any DML statements (INSERT, UPDATE, DELETE, DROP etc.) to the database.\n",
    "\n",
    "You have access to the following tables: {table_names}\n",
    "\n",
    "If you need to filter on a proper noun, you must ALWAYS first look up the filter value using the \"search_proper_nouns\" tool!\n",
    "Do not try to guess at the proper name - use this function to find similar ones.\"\"\".format(\n",
    "    table_names=db.get_usable_table_names()\n",
    ")\n",
    "\n",
    "system_message = SystemMessage(content=system)\n",
    "\n",
    "tools.append(retriever_tool)\n",
    "\n",
    "agent = create_react_agent(llm, tools, state_modifier=system_message)\n",
    "\n",
    "for t in tools:\n",
    "    print(json.dumps(t.to_json(), indent=4))"
   ],
   "outputs": [],
   "execution_count": null
  },
  {
   "cell_type": "code",
   "id": "1696bde2646192",
   "metadata": {},
   "source": [
    "for s in agent.stream(\n",
    "        {\"messages\": [HumanMessage(content=\"list truck models of Renoul\")]}\n",
    "):\n",
    "    print(beautify_gpt_response(s))"
   ],
   "outputs": [],
   "execution_count": null
  },
  {
   "cell_type": "markdown",
   "id": "12bbcd5e4b042fe6",
   "metadata": {},
   "source": [
    "# Enhance response with Radicalbit RAG"
   ]
  },
  {
   "cell_type": "code",
   "id": "8427b288-fb2a-41b1-b198-c16c8433e1bd",
   "metadata": {
    "scrolled": true
   },
   "source": [
    "for s in agent.stream(\n",
    "    {\"messages\": [HumanMessage(content=\"How many models manufactured by Scania exist?\")]}\n",
    "):\n",
    "    print(beautify_gpt_response(s))"
   ],
   "outputs": [],
   "execution_count": null
  },
  {
   "cell_type": "code",
   "id": "7603e1d0-0915-4c67-a16c-99bf3aba6ca0",
   "metadata": {},
   "source": [
    "from radicalbit_client.rag import RadicalbitRagClient\n",
    "from dotenv import load_dotenv\n",
    "import os\n",
    "\n",
    "load_dotenv()\n",
    "\n",
    "client_id = os.environ.get(\"RB_CLIENT_ID\")\n",
    "client_secret = os.environ.get(\"RB_CLIENT_SECRET\")\n",
    "\n",
    "# Create and instance of the Radicalbit RAG Client\n",
    "radicalbit_rag_client = RadicalbitRagClient(\n",
    "    host=\"platform.radicalbit.ai\",\n",
    "    port =\"443\",\n",
    "    client_id=client_id,\n",
    "    client_secret=client_secret,\n",
    "    tenant_name=\"bitrockcodemotion2024\"\n",
    ")\n",
    "\n",
    "agent_answer = s[\"agent\"][\"messages\"][-1].content\n",
    "\n",
    "payload = radicalbit_rag_client.invoke(prompt=agent_answer)\n",
    "print(payload['answer'])"
   ],
   "outputs": [],
   "execution_count": null
  }
 ],
 "metadata": {
  "kernelspec": {
   "display_name": "Python 3 (ipykernel)",
   "language": "python",
   "name": "python3"
  },
  "language_info": {
   "codemirror_mode": {
    "name": "ipython",
    "version": 3
   },
   "file_extension": ".py",
   "mimetype": "text/x-python",
   "name": "python",
   "nbconvert_exporter": "python",
   "pygments_lexer": "ipython3",
   "version": "3.12.7"
  }
 },
 "nbformat": 4,
 "nbformat_minor": 5
}

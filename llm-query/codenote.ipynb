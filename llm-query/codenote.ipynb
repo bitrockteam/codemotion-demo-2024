{
 "cells": [
  {
   "metadata": {},
   "cell_type": "markdown",
   "source": "# Setup Dependencies",
   "id": "738851362022a45e"
  },
  {
   "cell_type": "code",
   "id": "c419c238cfdba6a2",
   "metadata": {
    "ExecuteTime": {
     "end_time": "2024-10-16T11:22:29.503073Z",
     "start_time": "2024-10-16T11:22:27.405650Z"
    }
   },
   "source": [
    "%%capture --no-stderr\n",
    "%pip install --upgrade --quiet psycopg2 langchain langchain-community langchain-openai faiss-cpu langgraph python-dotenv\n",
    "%pip install --extra-index-url https://europe-west3-python.pkg.dev/bionic-unity-294411/radicalbit-python-api/simple radicalbit-client==3.4.4"
   ],
   "outputs": [],
   "execution_count": 5
  },
  {
   "cell_type": "code",
   "id": "6942221238973f68",
   "metadata": {
    "ExecuteTime": {
     "end_time": "2024-10-16T11:22:32.904679Z",
     "start_time": "2024-10-16T11:22:32.892418Z"
    }
   },
   "source": [
    "def beautify_gpt_response(response):\n",
    "    return response[list(response.keys())[0]]['messages'][0].pretty_repr()"
   ],
   "outputs": [],
   "execution_count": 6
  },
  {
   "metadata": {},
   "cell_type": "markdown",
   "source": "# Setup Database",
   "id": "f46a405e218d262c"
  },
  {
   "cell_type": "code",
   "id": "3eb4b02c73d848e2",
   "metadata": {
    "ExecuteTime": {
     "end_time": "2024-10-16T11:22:36.030332Z",
     "start_time": "2024-10-16T11:22:34.366660Z"
    }
   },
   "source": [
    "from langchain_community.utilities import SQLDatabase\n",
    "from dotenv import load_dotenv\n",
    "import os\n",
    "\n",
    "load_dotenv()\n",
    "\n",
    "db_host = os.environ.get(\"DATABASE_HOST\")\n",
    "db_port = os.environ.get(\"DATABASE_PORT\")\n",
    "db_name = os.environ.get(\"DATABASE_NAME\")\n",
    "db_user = os.environ.get(\"DATABASE_USER\")\n",
    "db_password = os.environ.get(\"DATABASE_PASSWORD\")\n",
    "\n",
    "db = SQLDatabase.from_uri(\n",
    "    f\"postgresql+psycopg2://{db_user}:{db_password}@{db_host}:{db_port}/{db_name}\",\n",
    ")\n",
    "print(f\"SQL dialect: {db.dialect}\")\n",
    "print(f\"List of usable tables: {db.get_usable_table_names()}\")"
   ],
   "outputs": [
    {
     "name": "stdout",
     "output_type": "stream",
     "text": [
      "SQL dialect: postgresql\n",
      "List of usable tables: ['fleet_model', 'vehicle', 'vehicle_position', 'vehicle_stats']\n"
     ]
    }
   ],
   "execution_count": 7
  },
  {
   "metadata": {},
   "cell_type": "markdown",
   "source": "# Create Agent",
   "id": "52b3a8190708461d"
  },
  {
   "cell_type": "code",
   "id": "a0a036f4fae32d0d",
   "metadata": {
    "ExecuteTime": {
     "end_time": "2024-10-16T11:22:37.751685Z",
     "start_time": "2024-10-16T11:22:37.732630Z"
    }
   },
   "source": [
    "import os\n",
    "api_key = os.environ.get(\"OPENAI_API_KEY\")\n",
    "\n",
    "from langchain_openai import ChatOpenAI\n",
    "\n",
    "llm = ChatOpenAI(model=\"gpt-4o\", api_key=api_key)"
   ],
   "outputs": [],
   "execution_count": 8
  },
  {
   "cell_type": "code",
   "id": "d3013fa32acea404",
   "metadata": {
    "ExecuteTime": {
     "end_time": "2024-10-16T11:22:39.255976Z",
     "start_time": "2024-10-16T11:22:39.222624Z"
    }
   },
   "source": [
    "import json\n",
    "from langchain_community.agent_toolkits import SQLDatabaseToolkit\n",
    "\n",
    "toolkit = SQLDatabaseToolkit(db=db, llm=llm)\n",
    "\n",
    "tools = toolkit.get_tools()\n",
    "\n",
    "for t in tools:\n",
    "    print(json.dumps(t.to_json(), indent=4))"
   ],
   "outputs": [
    {
     "name": "stdout",
     "output_type": "stream",
     "text": [
      "{\n",
      "    \"lc\": 1,\n",
      "    \"type\": \"not_implemented\",\n",
      "    \"id\": [\n",
      "        \"langchain_community\",\n",
      "        \"tools\",\n",
      "        \"sql_database\",\n",
      "        \"tool\",\n",
      "        \"QuerySQLDataBaseTool\"\n",
      "    ],\n",
      "    \"repr\": \"QuerySQLDataBaseTool(description=\\\"Input to this tool is a detailed and correct SQL query, output is a result from the database. If the query is not correct, an error message will be returned. If an error is returned, rewrite the query, check the query, and try again. If you encounter an issue with Unknown column 'xxxx' in 'field list', use sql_db_schema to query the correct table fields.\\\", db=<langchain_community.utilities.sql_database.SQLDatabase object at 0x123debe30>)\",\n",
      "    \"name\": \"sql_db_query\"\n",
      "}\n",
      "{\n",
      "    \"lc\": 1,\n",
      "    \"type\": \"not_implemented\",\n",
      "    \"id\": [\n",
      "        \"langchain_community\",\n",
      "        \"tools\",\n",
      "        \"sql_database\",\n",
      "        \"tool\",\n",
      "        \"InfoSQLDatabaseTool\"\n",
      "    ],\n",
      "    \"repr\": \"InfoSQLDatabaseTool(description='Input to this tool is a comma-separated list of tables, output is the schema and sample rows for those tables. Be sure that the tables actually exist by calling sql_db_list_tables first! Example Input: table1, table2, table3', db=<langchain_community.utilities.sql_database.SQLDatabase object at 0x123debe30>)\",\n",
      "    \"name\": \"sql_db_schema\"\n",
      "}\n",
      "{\n",
      "    \"lc\": 1,\n",
      "    \"type\": \"not_implemented\",\n",
      "    \"id\": [\n",
      "        \"langchain_community\",\n",
      "        \"tools\",\n",
      "        \"sql_database\",\n",
      "        \"tool\",\n",
      "        \"ListSQLDatabaseTool\"\n",
      "    ],\n",
      "    \"repr\": \"ListSQLDatabaseTool(db=<langchain_community.utilities.sql_database.SQLDatabase object at 0x123debe30>)\",\n",
      "    \"name\": \"sql_db_list_tables\"\n",
      "}\n",
      "{\n",
      "    \"lc\": 1,\n",
      "    \"type\": \"not_implemented\",\n",
      "    \"id\": [\n",
      "        \"langchain_community\",\n",
      "        \"tools\",\n",
      "        \"sql_database\",\n",
      "        \"tool\",\n",
      "        \"QuerySQLCheckerTool\"\n",
      "    ],\n",
      "    \"repr\": \"QuerySQLCheckerTool(description='Use this tool to double check if your query is correct before executing it. Always use this tool before executing a query with sql_db_query!', db=<langchain_community.utilities.sql_database.SQLDatabase object at 0x123debe30>, llm=ChatOpenAI(client=<openai.resources.chat.completions.Completions object at 0x12434cb30>, async_client=<openai.resources.chat.completions.AsyncCompletions object at 0x1079931a0>, root_client=<openai.OpenAI object at 0x1236e4290>, root_async_client=<openai.AsyncOpenAI object at 0x12434cb90>, model_name='gpt-4o', model_kwargs={}, openai_api_key=SecretStr('**********')), llm_chain=LLMChain(verbose=False, prompt=PromptTemplate(input_variables=['dialect', 'query'], input_types={}, partial_variables={}, template='\\\\n{query}\\\\nDouble check the {dialect} query above for common mistakes, including:\\\\n- Using NOT IN with NULL values\\\\n- Using UNION when UNION ALL should have been used\\\\n- Using BETWEEN for exclusive ranges\\\\n- Data type mismatch in predicates\\\\n- Properly quoting identifiers\\\\n- Using the correct number of arguments for functions\\\\n- Casting to the correct data type\\\\n- Using the proper columns for joins\\\\n\\\\nIf there are any of the above mistakes, rewrite the query. If there are no mistakes, just reproduce the original query.\\\\n\\\\nOutput the final SQL query only.\\\\n\\\\nSQL Query: '), llm=ChatOpenAI(client=<openai.resources.chat.completions.Completions object at 0x12434cb30>, async_client=<openai.resources.chat.completions.AsyncCompletions object at 0x1079931a0>, root_client=<openai.OpenAI object at 0x1236e4290>, root_async_client=<openai.AsyncOpenAI object at 0x12434cb90>, model_name='gpt-4o', model_kwargs={}, openai_api_key=SecretStr('**********')), output_parser=StrOutputParser(), llm_kwargs={}))\",\n",
      "    \"name\": \"sql_db_query_checker\"\n",
      "}\n"
     ]
    }
   ],
   "execution_count": 9
  },
  {
   "cell_type": "code",
   "id": "88bff41a-fc0e-4cb4-810c-2d8414b263e0",
   "metadata": {
    "ExecuteTime": {
     "end_time": "2024-10-16T11:22:40.998590Z",
     "start_time": "2024-10-16T11:22:40.995928Z"
    }
   },
   "source": [
    "from langchain_core.messages import SystemMessage\n",
    "\n",
    "SQL_PREFIX = \"\"\"You are an agent designed to interact with a SQL database.\n",
    "Given an input question, create a syntactically correct PostgreSQL query to run, then look at the results of the query and return the answer.\n",
    "Unless the user specifies that want to retrieve a specific number of examples they wish to obtain, always limit your query to at most 5 results.\n",
    "If the user ask for all the examples do not limit the query to 5 result.\n",
    "You can order the results by a relevant column to return the most interesting examples in the database.\n",
    "Never query for all the columns from a specific table, only ask for the relevant columns given the question.\n",
    "You have access to tools for interacting with the database.\n",
    "ALWAYS use double quote to identify table name.\n",
    "Only use the below tools. Only use the information returned by the below tools to construct your final answer.\n",
    "You MUST double check your query before executing it. If you get an error while executing a query, rewrite the query and try again.\n",
    "\n",
    "DO NOT make any DML statements (INSERT, UPDATE, DELETE, DROP etc.) to the database.\n",
    "\n",
    "To start you should ALWAYS look at the tables in the database to see what you can query.\n",
    "Do NOT skip this step.\n",
    "Then you should query the schema of the most relevant tables.\"\"\"\n",
    "\n",
    "system_message = SystemMessage(content=SQL_PREFIX)"
   ],
   "outputs": [],
   "execution_count": 10
  },
  {
   "cell_type": "code",
   "id": "08ca1c68-6c64-4a5d-8a84-c8883293abf2",
   "metadata": {
    "ExecuteTime": {
     "end_time": "2024-10-16T11:22:42.692902Z",
     "start_time": "2024-10-16T11:22:42.623790Z"
    }
   },
   "source": [
    "from langchain_core.messages import HumanMessage\n",
    "from langgraph.prebuilt import create_react_agent\n",
    "\n",
    "agent_executor = create_react_agent(llm, tools, state_modifier=system_message)"
   ],
   "outputs": [],
   "execution_count": 11
  },
  {
   "metadata": {},
   "cell_type": "markdown",
   "source": "# Test human language query",
   "id": "c332bb91727e390b"
  },
  {
   "cell_type": "code",
   "id": "8afc8c7e24ef14b9",
   "metadata": {
    "ExecuteTime": {
     "end_time": "2024-10-16T11:22:50.203296Z",
     "start_time": "2024-10-16T11:22:44.411405Z"
    }
   },
   "source": [
    "for s in agent_executor.stream(\n",
    "        {\"messages\": [HumanMessage(content=\"list truck models of MAN\")]}\n",
    "):\n",
    "    print(beautify_gpt_response(s))"
   ],
   "outputs": [
    {
     "name": "stdout",
     "output_type": "stream",
     "text": [
      "================================== Ai Message ==================================\n",
      "Tool Calls:\n",
      "  sql_db_list_tables (call_RLA3O7tNdDPuiB7B8VPbW7w8)\n",
      " Call ID: call_RLA3O7tNdDPuiB7B8VPbW7w8\n",
      "  Args:\n",
      "================================= Tool Message =================================\n",
      "Name: sql_db_list_tables\n",
      "\n",
      "fleet_model, vehicle, vehicle_position, vehicle_stats\n",
      "================================== Ai Message ==================================\n",
      "Tool Calls:\n",
      "  sql_db_schema (call_olvi4o24OZBN1w4PhglI4gBb)\n",
      " Call ID: call_olvi4o24OZBN1w4PhglI4gBb\n",
      "  Args:\n",
      "    table_names: fleet_model\n",
      "================================= Tool Message =================================\n",
      "Name: sql_db_schema\n",
      "\n",
      "\n",
      "CREATE TABLE fleet_model (\n",
      "\tid SERIAL NOT NULL, \n",
      "\tname VARCHAR(255) NOT NULL, \n",
      "\tmanufacturer VARCHAR(255) NOT NULL, \n",
      "\tyear INTEGER NOT NULL, \n",
      "\tCONSTRAINT fleet_model_pkey PRIMARY KEY (id)\n",
      ")\n",
      "\n",
      "/*\n",
      "3 rows from fleet_model table:\n",
      "id\tname\tmanufacturer\tyear\n",
      "1\tFH\tVolvo\t2012\n",
      "2\tActros\tMercedes-Benz\t2011\n",
      "3\tR Series\tScania\t2004\n",
      "*/\n",
      "================================== Ai Message ==================================\n",
      "Tool Calls:\n",
      "  sql_db_query_checker (call_td6PUcpx6ZQCMfLhWK8pd5nr)\n",
      " Call ID: call_td6PUcpx6ZQCMfLhWK8pd5nr\n",
      "  Args:\n",
      "    query: SELECT name FROM \"fleet_model\" WHERE manufacturer = 'MAN' LIMIT 5;\n",
      "================================= Tool Message =================================\n",
      "Name: sql_db_query_checker\n",
      "\n",
      "```sql\n",
      "SELECT name FROM \"fleet_model\" WHERE manufacturer = 'MAN' LIMIT 5;\n",
      "```\n",
      "================================== Ai Message ==================================\n",
      "Tool Calls:\n",
      "  sql_db_query (call_bQ910PXHJ8yZkjyeqKsRBAIV)\n",
      " Call ID: call_bQ910PXHJ8yZkjyeqKsRBAIV\n",
      "  Args:\n",
      "    query: SELECT name FROM \"fleet_model\" WHERE manufacturer = 'MAN' LIMIT 5;\n",
      "================================= Tool Message =================================\n",
      "Name: sql_db_query\n",
      "\n",
      "[('TGX',), ('TGS',), ('TGL',), ('eTGM',)]\n",
      "================================== Ai Message ==================================\n",
      "\n",
      "The truck models of MAN are TGX, TGS, TGL, and eTGM.\n"
     ]
    }
   ],
   "execution_count": 12
  },
  {
   "cell_type": "code",
   "execution_count": 9,
   "id": "4e92f380-08bd-4940-b07c-893410eecdbf",
   "metadata": {
    "ExecuteTime": {
     "end_time": "2024-10-16T10:43:25.861980Z",
     "start_time": "2024-10-16T10:43:20.619063Z"
    }
   },
   "outputs": [
    {
     "name": "stdout",
     "output_type": "stream",
     "text": [
      "================================== Ai Message ==================================\n",
      "Tool Calls:\n",
      "  sql_db_list_tables (call_BPL9liQokCmgfwl39wua1MwB)\n",
      " Call ID: call_BPL9liQokCmgfwl39wua1MwB\n",
      "  Args:\n",
      "================================= Tool Message =================================\n",
      "Name: sql_db_list_tables\n",
      "\n",
      "fleet_model, vehicle, vehicle_position, vehicle_stats\n",
      "================================== Ai Message ==================================\n",
      "Tool Calls:\n",
      "  sql_db_schema (call_G6av9IfIAGSSozbhjFkZuj4K)\n",
      " Call ID: call_G6av9IfIAGSSozbhjFkZuj4K\n",
      "  Args:\n",
      "    table_names: vehicle\n",
      "================================= Tool Message =================================\n",
      "Name: sql_db_schema\n",
      "\n",
      "\n",
      "CREATE TABLE vehicle (\n",
      "\tplate VARCHAR(255) NOT NULL, \n",
      "\tmodel_id INTEGER, \n",
      "\tcolor VARCHAR(255) NOT NULL, \n",
      "\tCONSTRAINT vehicle_pkey PRIMARY KEY (plate), \n",
      "\tCONSTRAINT fk_model FOREIGN KEY(model_id) REFERENCES fleet_model (id)\n",
      ")\n",
      "\n",
      "/*\n",
      "3 rows from vehicle table:\n",
      "plate\tmodel_id\tcolor\n",
      "DC550WF\t22\tBlack\n",
      "BD458MM\t22\tBlack\n",
      "CE303DR\t3\tBlack\n",
      "*/\n",
      "================================== Ai Message ==================================\n",
      "Tool Calls:\n",
      "  sql_db_schema (call_KDMGjEpEScpuMVZ8TMywtP4O)\n",
      " Call ID: call_KDMGjEpEScpuMVZ8TMywtP4O\n",
      "  Args:\n",
      "    table_names: fleet_model\n",
      "================================= Tool Message =================================\n",
      "Name: sql_db_schema\n",
      "\n",
      "\n",
      "CREATE TABLE fleet_model (\n",
      "\tid SERIAL NOT NULL, \n",
      "\tname VARCHAR(255) NOT NULL, \n",
      "\tmanufacturer VARCHAR(255) NOT NULL, \n",
      "\tyear INTEGER NOT NULL, \n",
      "\tCONSTRAINT fleet_model_pkey PRIMARY KEY (id)\n",
      ")\n",
      "\n",
      "/*\n",
      "3 rows from fleet_model table:\n",
      "id\tname\tmanufacturer\tyear\n",
      "1\tFH\tVolvo\t2012\n",
      "2\tActros\tMercedes-Benz\t2011\n",
      "3\tR Series\tScania\t2004\n",
      "*/\n",
      "================================== Ai Message ==================================\n",
      "Tool Calls:\n",
      "  sql_db_query_checker (call_n4R4RiRbhKkeYVdczx56sP0M)\n",
      " Call ID: call_n4R4RiRbhKkeYVdczx56sP0M\n",
      "  Args:\n",
      "    query: SELECT name FROM \"fleet_model\" WHERE manufacturer = 'MANN' LIMIT 5;\n",
      "================================= Tool Message =================================\n",
      "Name: sql_db_query_checker\n",
      "\n",
      "```sql\n",
      "SELECT name FROM \"fleet_model\" WHERE manufacturer = 'MANN' LIMIT 5;\n",
      "```\n",
      "================================== Ai Message ==================================\n",
      "Tool Calls:\n",
      "  sql_db_query (call_FPRrmKV8PH8cPDGtqltLWdhR)\n",
      " Call ID: call_FPRrmKV8PH8cPDGtqltLWdhR\n",
      "  Args:\n",
      "    query: SELECT name FROM \"fleet_model\" WHERE manufacturer = 'MANN' LIMIT 5;\n",
      "================================= Tool Message =================================\n",
      "Name: sql_db_query\n",
      "\n",
      "\n",
      "================================== Ai Message ==================================\n",
      "\n",
      "There are no truck models listed under the manufacturer \"MANN\" in the database.\n"
     ]
    }
   ],
   "source": [
    "for s in agent_executor.stream(\n",
    "    {\"messages\": [HumanMessage(content=\"list truck models of MANN\")]}\n",
    "):\n",
    "    print(beautify_gpt_response(s))"
   ]
  },
  {
   "metadata": {},
   "cell_type": "markdown",
   "source": "# Embrace the typos with Embeddings",
   "id": "c68fa2e42e219005"
  },
  {
   "metadata": {},
   "cell_type": "code",
   "outputs": [],
   "execution_count": null,
   "source": [
    "from langchain.evaluation import load_evaluator\n",
    "from langchain_openai import OpenAIEmbeddings\n",
    "\n",
    "evaluator = load_evaluator(evaluator=\"embedding_distance\",\n",
    "                           embeddings=OpenAIEmbeddings())\n",
    "\n",
    "print(evaluator.evaluate_strings(prediction=\"Amsterdam\", reference=\"coffeeshop\"))\n",
    "print(evaluator.evaluate_strings(prediction=\"Tokyo\", reference=\"coffeeshop\"))"
   ],
   "id": "67dc844be0b67ecb"
  },
  {
   "cell_type": "code",
   "id": "e0e4283b-ea38-4eaf-a10e-8f457fde0714",
   "metadata": {
    "ExecuteTime": {
     "end_time": "2024-10-16T11:22:50.602089Z",
     "start_time": "2024-10-16T11:22:50.216301Z"
    }
   },
   "source": [
    "import ast\n",
    "import re\n",
    "\n",
    "def query_as_list(db, query):\n",
    "    res = db.run(query)\n",
    "    res = [el for sub in ast.literal_eval(res) for el in sub if el]\n",
    "    res = [re.sub(r\"\\b\\d+\\b\", \"\", string).strip() for string in res]\n",
    "    return list(set(res))\n",
    "\n",
    "names = query_as_list(db, \"SELECT name FROM fleet_model\")\n",
    "manufacturers = query_as_list(db, \"SELECT manufacturer FROM fleet_model\")\n",
    "colors = query_as_list(db, \"SELECT color FROM vehicle\")\n",
    "zone = query_as_list(db, \"SELECT zone FROM vehicle_position\")\n",
    "city = query_as_list(db, \"SELECT city FROM vehicle_position\")\n",
    "manufacturers[:5]"
   ],
   "outputs": [
    {
     "data": {
      "text/plain": [
       "['Renault', 'Scania', 'Volvo', 'MAN', 'DAF']"
      ]
     },
     "execution_count": 13,
     "metadata": {},
     "output_type": "execute_result"
    }
   ],
   "execution_count": 13
  },
  {
   "cell_type": "code",
   "id": "732d78e7-0db8-4c83-8862-68c39ccf6db5",
   "metadata": {
    "scrolled": true,
    "ExecuteTime": {
     "end_time": "2024-10-16T11:22:55.367907Z",
     "start_time": "2024-10-16T11:22:52.429639Z"
    }
   },
   "source": [
    "from langchain.agents.agent_toolkits import create_retriever_tool\n",
    "from langchain_community.vectorstores import FAISS\n",
    "from langchain_openai import OpenAIEmbeddings\n",
    "\n",
    "vector_db = FAISS.from_texts(names + manufacturers + colors + zone + city, OpenAIEmbeddings())\n",
    "retriever = vector_db.as_retriever(search_kwargs={\"k\": 5})\n",
    "description = \"\"\"Use to look up values to filter on. Input is an approximate spelling of the proper noun, output is \\\n",
    "valid proper nouns. Use the noun most similar to the search.\"\"\"\n",
    "retriever_tool = create_retriever_tool(\n",
    "    retriever,\n",
    "    name=\"search_proper_nouns\",\n",
    "    description=description,\n",
    ")\n",
    "print(retriever_tool.invoke(\"MANN\"))"
   ],
   "outputs": [
    {
     "name": "stdout",
     "output_type": "stream",
     "text": [
      "MAN\n",
      "\n",
      "Maenza\n",
      "\n",
      "Messina\n",
      "\n",
      "Messina\n",
      "\n",
      "LF\n"
     ]
    }
   ],
   "execution_count": 14
  },
  {
   "cell_type": "code",
   "execution_count": 12,
   "id": "df365f70-3dc4-4c67-934a-3d003f493ff3",
   "metadata": {
    "ExecuteTime": {
     "end_time": "2024-10-16T10:55:07.358485Z",
     "start_time": "2024-10-16T10:55:07.333026Z"
    }
   },
   "outputs": [
    {
     "name": "stdout",
     "output_type": "stream",
     "text": [
      "{\n",
      "    \"lc\": 1,\n",
      "    \"type\": \"not_implemented\",\n",
      "    \"id\": [\n",
      "        \"langchain_community\",\n",
      "        \"tools\",\n",
      "        \"sql_database\",\n",
      "        \"tool\",\n",
      "        \"QuerySQLDataBaseTool\"\n",
      "    ],\n",
      "    \"repr\": \"QuerySQLDataBaseTool(description=\\\"Input to this tool is a detailed and correct SQL query, output is a result from the database. If the query is not correct, an error message will be returned. If an error is returned, rewrite the query, check the query, and try again. If you encounter an issue with Unknown column 'xxxx' in 'field list', use sql_db_schema to query the correct table fields.\\\", db=<langchain_community.utilities.sql_database.SQLDatabase object at 0x105399a60>)\",\n",
      "    \"name\": \"sql_db_query\"\n",
      "}\n",
      "{\n",
      "    \"lc\": 1,\n",
      "    \"type\": \"not_implemented\",\n",
      "    \"id\": [\n",
      "        \"langchain_community\",\n",
      "        \"tools\",\n",
      "        \"sql_database\",\n",
      "        \"tool\",\n",
      "        \"InfoSQLDatabaseTool\"\n",
      "    ],\n",
      "    \"repr\": \"InfoSQLDatabaseTool(description='Input to this tool is a comma-separated list of tables, output is the schema and sample rows for those tables. Be sure that the tables actually exist by calling sql_db_list_tables first! Example Input: table1, table2, table3', db=<langchain_community.utilities.sql_database.SQLDatabase object at 0x105399a60>)\",\n",
      "    \"name\": \"sql_db_schema\"\n",
      "}\n",
      "{\n",
      "    \"lc\": 1,\n",
      "    \"type\": \"not_implemented\",\n",
      "    \"id\": [\n",
      "        \"langchain_community\",\n",
      "        \"tools\",\n",
      "        \"sql_database\",\n",
      "        \"tool\",\n",
      "        \"ListSQLDatabaseTool\"\n",
      "    ],\n",
      "    \"repr\": \"ListSQLDatabaseTool(db=<langchain_community.utilities.sql_database.SQLDatabase object at 0x105399a60>)\",\n",
      "    \"name\": \"sql_db_list_tables\"\n",
      "}\n",
      "{\n",
      "    \"lc\": 1,\n",
      "    \"type\": \"not_implemented\",\n",
      "    \"id\": [\n",
      "        \"langchain_community\",\n",
      "        \"tools\",\n",
      "        \"sql_database\",\n",
      "        \"tool\",\n",
      "        \"QuerySQLCheckerTool\"\n",
      "    ],\n",
      "    \"repr\": \"QuerySQLCheckerTool(description='Use this tool to double check if your query is correct before executing it. Always use this tool before executing a query with sql_db_query!', db=<langchain_community.utilities.sql_database.SQLDatabase object at 0x105399a60>, llm=ChatOpenAI(client=<openai.resources.chat.completions.Completions object at 0x107e97740>, async_client=<openai.resources.chat.completions.AsyncCompletions object at 0x107eeb770>, root_client=<openai.OpenAI object at 0x107cab590>, root_async_client=<openai.AsyncOpenAI object at 0x107e96d50>, model_name='gpt-4o', model_kwargs={}, openai_api_key=SecretStr('**********')), llm_chain=LLMChain(verbose=False, prompt=PromptTemplate(input_variables=['dialect', 'query'], input_types={}, partial_variables={}, template='\\\\n{query}\\\\nDouble check the {dialect} query above for common mistakes, including:\\\\n- Using NOT IN with NULL values\\\\n- Using UNION when UNION ALL should have been used\\\\n- Using BETWEEN for exclusive ranges\\\\n- Data type mismatch in predicates\\\\n- Properly quoting identifiers\\\\n- Using the correct number of arguments for functions\\\\n- Casting to the correct data type\\\\n- Using the proper columns for joins\\\\n\\\\nIf there are any of the above mistakes, rewrite the query. If there are no mistakes, just reproduce the original query.\\\\n\\\\nOutput the final SQL query only.\\\\n\\\\nSQL Query: '), llm=ChatOpenAI(client=<openai.resources.chat.completions.Completions object at 0x107e97740>, async_client=<openai.resources.chat.completions.AsyncCompletions object at 0x107eeb770>, root_client=<openai.OpenAI object at 0x107cab590>, root_async_client=<openai.AsyncOpenAI object at 0x107e96d50>, model_name='gpt-4o', model_kwargs={}, openai_api_key=SecretStr('**********')), output_parser=StrOutputParser(), llm_kwargs={}))\",\n",
      "    \"name\": \"sql_db_query_checker\"\n",
      "}\n",
      "{\n",
      "    \"lc\": 1,\n",
      "    \"type\": \"not_implemented\",\n",
      "    \"id\": [\n",
      "        \"langchain_core\",\n",
      "        \"tools\",\n",
      "        \"simple\",\n",
      "        \"Tool\"\n",
      "    ],\n",
      "    \"repr\": \"Tool(name='search_proper_nouns', description='Use to look up values to filter on. Input is an approximate spelling of the proper noun, output is valid proper nouns. Use the noun most similar to the search.', args_schema=<class 'langchain_core.tools.retriever.RetrieverInput'>, func=functools.partial(<function _get_relevant_documents at 0x107c594e0>, retriever=VectorStoreRetriever(tags=['FAISS', 'OpenAIEmbeddings'], vectorstore=<langchain_community.vectorstores.faiss.FAISS object at 0x13ee5b110>, search_kwargs={'k': 5}), document_prompt=PromptTemplate(input_variables=['page_content'], input_types={}, partial_variables={}, template='{page_content}'), document_separator='\\\\n\\\\n'), coroutine=functools.partial(<function _aget_relevant_documents at 0x107dabe20>, retriever=VectorStoreRetriever(tags=['FAISS', 'OpenAIEmbeddings'], vectorstore=<langchain_community.vectorstores.faiss.FAISS object at 0x13ee5b110>, search_kwargs={'k': 5}), document_prompt=PromptTemplate(input_variables=['page_content'], input_types={}, partial_variables={}, template='{page_content}'), document_separator='\\\\n\\\\n'))\",\n",
      "    \"name\": \"search_proper_nouns\"\n",
      "}\n"
     ]
    }
   ],
   "source": [
    "system = \"\"\"You are an agent designed to interact with a SQL database.\n",
    "Given an input question, create a syntactically correct PostgreSQL query to run, then look at the results of the query and return the answer.\n",
    "Unless the user specifies a specific number of examples they wish to obtain, always limit your query to at most 5 results.\n",
    "If the user ask for all the examples do not limit the query to 5 result.\n",
    "You can order the results by a relevant column to return the most interesting examples in the database.\n",
    "Never query for all the columns from a specific table, only ask for the relevant columns given the question.\n",
    "You have access to tools for interacting with the database.\n",
    "Only use the given tools. Only use the information returned by the tools to construct your final answer.\n",
    "You MUST double check your query before executing it. If you get an error while executing a query, rewrite the query and try again.\n",
    "\n",
    "DO NOT make any DML statements (INSERT, UPDATE, DELETE, DROP etc.) to the database.\n",
    "\n",
    "You have access to the following tables: {table_names}\n",
    "\n",
    "If you need to filter on a proper noun, you must ALWAYS first look up the filter value using the \"search_proper_nouns\" tool!\n",
    "Do not try to guess at the proper name - use this function to find similar ones.\"\"\".format(\n",
    "    table_names=db.get_usable_table_names()\n",
    ")\n",
    "\n",
    "system_message = SystemMessage(content=system)\n",
    "\n",
    "tools.append(retriever_tool)\n",
    "\n",
    "agent = create_react_agent(llm, tools, state_modifier=system_message)\n",
    "\n",
    "for t in tools:\n",
    "    print(json.dumps(t.to_json(), indent=4))"
   ]
  },
  {
   "cell_type": "code",
   "execution_count": 13,
   "id": "1696bde2646192",
   "metadata": {
    "ExecuteTime": {
     "end_time": "2024-10-16T10:55:18.682502Z",
     "start_time": "2024-10-16T10:55:12.642647Z"
    }
   },
   "outputs": [
    {
     "name": "stdout",
     "output_type": "stream",
     "text": [
      "================================== Ai Message ==================================\n",
      "Tool Calls:\n",
      "  search_proper_nouns (call_WOKGEjFYEBC1UxvqbMCbH7A2)\n",
      " Call ID: call_WOKGEjFYEBC1UxvqbMCbH7A2\n",
      "  Args:\n",
      "    query: MANN\n",
      "================================= Tool Message =================================\n",
      "Name: search_proper_nouns\n",
      "\n",
      "MAN\n",
      "\n",
      "Maenza\n",
      "\n",
      "Messina\n",
      "\n",
      "Messina\n",
      "\n",
      "LF\n",
      "================================== Ai Message ==================================\n",
      "Tool Calls:\n",
      "  sql_db_schema (call_D5lWI4z5L7xmh0yAXyTfUBVD)\n",
      " Call ID: call_D5lWI4z5L7xmh0yAXyTfUBVD\n",
      "  Args:\n",
      "    table_names: fleet_model\n",
      "================================= Tool Message =================================\n",
      "Name: sql_db_schema\n",
      "\n",
      "\n",
      "CREATE TABLE fleet_model (\n",
      "\tid SERIAL NOT NULL, \n",
      "\tname VARCHAR(255) NOT NULL, \n",
      "\tmanufacturer VARCHAR(255) NOT NULL, \n",
      "\tyear INTEGER NOT NULL, \n",
      "\tCONSTRAINT fleet_model_pkey PRIMARY KEY (id)\n",
      ")\n",
      "\n",
      "/*\n",
      "3 rows from fleet_model table:\n",
      "id\tname\tmanufacturer\tyear\n",
      "1\tFH\tVolvo\t2012\n",
      "2\tActros\tMercedes-Benz\t2011\n",
      "3\tR Series\tScania\t2004\n",
      "*/\n",
      "================================== Ai Message ==================================\n",
      "Tool Calls:\n",
      "  sql_db_query_checker (call_tGJsvF2p3gcvmSbYX9U3lKk0)\n",
      " Call ID: call_tGJsvF2p3gcvmSbYX9U3lKk0\n",
      "  Args:\n",
      "    query: SELECT name FROM fleet_model WHERE manufacturer = 'MAN' LIMIT 5;\n",
      "================================= Tool Message =================================\n",
      "Name: sql_db_query_checker\n",
      "\n",
      "```sql\n",
      "SELECT name FROM fleet_model WHERE manufacturer = 'MAN' LIMIT 5;\n",
      "```\n",
      "================================== Ai Message ==================================\n",
      "Tool Calls:\n",
      "  sql_db_query (call_UQ7NUjJMgXi0pJP7joZ0tQm4)\n",
      " Call ID: call_UQ7NUjJMgXi0pJP7joZ0tQm4\n",
      "  Args:\n",
      "    query: SELECT name FROM fleet_model WHERE manufacturer = 'MAN' LIMIT 5;\n",
      "================================= Tool Message =================================\n",
      "Name: sql_db_query\n",
      "\n",
      "[('TGX',), ('TGS',), ('TGL',), ('eTGM',)]\n",
      "================================== Ai Message ==================================\n",
      "\n",
      "Here are some truck models manufactured by MAN:\n",
      "\n",
      "1. TGX\n",
      "2. TGS\n",
      "3. TGL\n",
      "4. eTGM\n"
     ]
    }
   ],
   "source": [
    "for s in agent.stream(\n",
    "        {\"messages\": [HumanMessage(content=\"list truck models of MANN\")]}\n",
    "):\n",
    "    print(beautify_gpt_response(s))"
   ]
  },
  {
   "metadata": {},
   "cell_type": "markdown",
   "source": "# Enhance response with Radicalbit RAG",
   "id": "12bbcd5e4b042fe6"
  },
  {
   "cell_type": "code",
   "execution_count": 14,
   "id": "8427b288-fb2a-41b1-b198-c16c8433e1bd",
   "metadata": {
    "ExecuteTime": {
     "end_time": "2024-10-16T10:56:28.438676Z",
     "start_time": "2024-10-16T10:56:23.949834Z"
    },
    "scrolled": true
   },
   "outputs": [
    {
     "name": "stdout",
     "output_type": "stream",
     "text": [
      "================================== Ai Message ==================================\n",
      "Tool Calls:\n",
      "  sql_db_schema (call_4CDTty5OJpOAjSToJ8JG5FGv)\n",
      " Call ID: call_4CDTty5OJpOAjSToJ8JG5FGv\n",
      "  Args:\n",
      "    table_names: fleet_model\n",
      "================================= Tool Message =================================\n",
      "Name: sql_db_schema\n",
      "\n",
      "\n",
      "CREATE TABLE fleet_model (\n",
      "\tid SERIAL NOT NULL, \n",
      "\tname VARCHAR(255) NOT NULL, \n",
      "\tmanufacturer VARCHAR(255) NOT NULL, \n",
      "\tyear INTEGER NOT NULL, \n",
      "\tCONSTRAINT fleet_model_pkey PRIMARY KEY (id)\n",
      ")\n",
      "\n",
      "/*\n",
      "3 rows from fleet_model table:\n",
      "id\tname\tmanufacturer\tyear\n",
      "1\tFH\tVolvo\t2012\n",
      "2\tActros\tMercedes-Benz\t2011\n",
      "3\tR Series\tScania\t2004\n",
      "*/\n",
      "================================== Ai Message ==================================\n",
      "Tool Calls:\n",
      "  search_proper_nouns (call_ZpE2gh9AeQ8k733Vc3IxHEra)\n",
      " Call ID: call_ZpE2gh9AeQ8k733Vc3IxHEra\n",
      "  Args:\n",
      "    query: Scana\n",
      "================================= Tool Message =================================\n",
      "Name: search_proper_nouns\n",
      "\n",
      "Scandicci\n",
      "\n",
      "Scania\n",
      "\n",
      "Scarmagno\n",
      "\n",
      "Scilla\n",
      "\n",
      "Arquata Scrivia\n",
      "================================== Ai Message ==================================\n",
      "Tool Calls:\n",
      "  sql_db_schema (call_e6VCmUcTmKj5u13fTkTp7dIH)\n",
      " Call ID: call_e6VCmUcTmKj5u13fTkTp7dIH\n",
      "  Args:\n",
      "    table_names: vehicle\n",
      "================================= Tool Message =================================\n",
      "Name: sql_db_schema\n",
      "\n",
      "\n",
      "CREATE TABLE vehicle (\n",
      "\tplate VARCHAR(255) NOT NULL, \n",
      "\tmodel_id INTEGER, \n",
      "\tcolor VARCHAR(255) NOT NULL, \n",
      "\tCONSTRAINT vehicle_pkey PRIMARY KEY (plate), \n",
      "\tCONSTRAINT fk_model FOREIGN KEY(model_id) REFERENCES fleet_model (id)\n",
      ")\n",
      "\n",
      "/*\n",
      "3 rows from vehicle table:\n",
      "plate\tmodel_id\tcolor\n",
      "DC550WF\t22\tBlack\n",
      "BD458MM\t22\tBlack\n",
      "CE303DR\t3\tBlack\n",
      "*/\n",
      "================================== Ai Message ==================================\n",
      "Tool Calls:\n",
      "  sql_db_query (call_i8fgio7N34sN2xeairIeiaHf)\n",
      " Call ID: call_i8fgio7N34sN2xeairIeiaHf\n",
      "  Args:\n",
      "    query: SELECT COUNT(*) FROM vehicle v JOIN fleet_model fm ON v.model_id = fm.id WHERE fm.manufacturer = 'Scania'\n",
      "================================= Tool Message =================================\n",
      "Name: sql_db_query\n",
      "\n",
      "[(55,)]\n",
      "================================== Ai Message ==================================\n",
      "\n",
      "There are 55 vehicles manufactured by Scania in the database.\n"
     ]
    }
   ],
   "source": [
    "for s in agent.stream(\n",
    "    {\"messages\": [HumanMessage(content=\"How many vehicle manufactured by Scana exist?\")]}\n",
    "):\n",
    "    print(beautify_gpt_response(s))"
   ]
  },
  {
   "cell_type": "code",
   "execution_count": 165,
   "id": "7603e1d0-0915-4c67-a16c-99bf3aba6ca0",
   "metadata": {
    "ExecuteTime": {
     "end_time": "2024-10-16T11:01:33.982043Z",
     "start_time": "2024-10-16T11:01:25.976392Z"
    }
   },
   "outputs": [
    {
     "name": "stdout",
     "output_type": "stream",
     "text": [
      "Based on the provided context, here is a description of the Scania truck models mentioned:\n",
      "\n",
      "1. **Scania S Series (2016)**\n",
      "   - **Description**: The S Series is Scania's premium range designed for long-haul operations. It features a flat floor cab for maximum space, advanced driver support systems, and highly efficient powertrains. Known for its luxurious interior and excellent fuel economy.\n",
      "\n",
      "2. **Scania R Series (2004)**\n",
      "   - **Description**: The R Series is versatile, suitable for various applications including long-haul and construction. It's known for robust build quality, fuel efficiency, and driver comfort. Offers a range of powertrains, including options for alternative fuels, and is reputed for reliability and strong residual values.\n",
      "\n",
      "3. **Scania P Series (2004)**\n",
      "   - **Description**: The P Series is ideal for urban and regional distribution, as well as some construction applications. It features a lower cab for easy entry and exit, making it perfect for multi-drop operations. Available with various powertrains, including alternative fuel options.\n",
      "\n",
      "4. **Scania G Series (2007)**\n",
      "   - **Description**: The G Series offers versatility for long-haul, construction, and distribution applications. It balances cab height and specifications between the P and R series. Known for fuel efficiency and driver comfort.\n",
      "\n",
      "5. **Scania XT (2017)**\n",
      "   - **Description**: The XT is a rugged version designed for heavy-duty applications in demanding conditions. It features reinforced components, higher ground clearance, and a robust appearance. Popular in construction, mining, and forestry applications.\n",
      "\n",
      "These models represent some of the diverse offerings from Scania, catering to different operational needs and environments.\n"
     ]
    }
   ],
   "source": [
    "from radicalbit_client.rag import RadicalbitRagClient\n",
    "from dotenv import load_dotenv\n",
    "import os\n",
    "\n",
    "load_dotenv()\n",
    "\n",
    "client_id = os.environ.get(\"RB_CLIENT_ID\")\n",
    "client_secret = os.environ.get(\"RB_CLIENT_SECRET\")\n",
    "\n",
    "# Create and instance of the Radicalbit RAG Client\n",
    "radicalbit_rag_client = RadicalbitRagClient(\n",
    "    host=\"platform.radicalbit.ai\",\n",
    "    port =\"443\",\n",
    "    client_id=client_id,\n",
    "    client_secret=client_secret,\n",
    "    tenant_name=\"bitrockcodemotion2024\"\n",
    ")\n",
    "\n",
    "agent_answer = s[\"agent\"][\"messages\"][-1].content\n",
    "\n",
    "payload = radicalbit_rag_client.invoke(prompt=agent_answer)\n",
    "print(payload['answer'])"
   ]
  }
 ],
 "metadata": {
  "kernelspec": {
   "display_name": "Python 3 (ipykernel)",
   "language": "python",
   "name": "python3"
  },
  "language_info": {
   "codemirror_mode": {
    "name": "ipython",
    "version": 3
   },
   "file_extension": ".py",
   "mimetype": "text/x-python",
   "name": "python",
   "nbconvert_exporter": "python",
   "pygments_lexer": "ipython3",
   "version": "3.12.7"
  }
 },
 "nbformat": 4,
 "nbformat_minor": 5
}
